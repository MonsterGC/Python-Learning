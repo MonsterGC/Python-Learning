{
 "cells": [
  {
   "cell_type": "code",
   "execution_count": 4,
   "metadata": {},
   "outputs": [
    {
     "ename": "SyntaxError",
     "evalue": "EOL while scanning string literal (<ipython-input-4-1a48b695bb54>, line 23)",
     "output_type": "error",
     "traceback": [
      "\u001b[1;36m  File \u001b[1;32m\"<ipython-input-4-1a48b695bb54>\"\u001b[1;36m, line \u001b[1;32m23\u001b[0m\n\u001b[1;33m    root='F:\\LeetCode\\Python-Learning\\Resources\\images\\hero\\'\u001b[0m\n\u001b[1;37m                                                             ^\u001b[0m\n\u001b[1;31mSyntaxError\u001b[0m\u001b[1;31m:\u001b[0m EOL while scanning string literal\n"
     ]
    }
   ],
   "source": [
    "import requests\n",
    "from bs4 import BeautifulSoup\n",
    "import os\n",
    "import time\n",
    "\n",
    "def getHTMLText(url):\n",
    "    try:\n",
    "        r=requests.get(url)\n",
    "        r.raise_for_status()\n",
    "        r.encoding=r.apparent_encoding\n",
    "        return r.text\n",
    "    except:\n",
    "        return '接收错误'\n",
    "\n",
    "def printext(html):\n",
    "    soup=BeautifulSoup(html, 'html.parser')\n",
    "    imgs=soup.find('div', class_='article-content').find_all('img')\n",
    "    for img in imgs:\n",
    "        time.sleep(1)\n",
    "        src=img['src']\n",
    "        \n",
    "        # 这里我改为E盘了，你可以不改         \n",
    "        root='F:\\LeetCode\\Python-Learning\\Resources\\images\\hero'\n",
    "        # 按照你的代码路径是这样子的=>E:/hero/4bed2e738bd4b31cadca41fd39d16d799f2ff894.jpeg?token=c5e74382bc35f7d559bde300457db505&s=4C7039C4941B11D414F4EC970300C083          \n",
    "        # 修改后的代码路径是这样子的=>E:/hero/4bed2e738bd4b31cadca41fd39d16d799f2ff894.jpeg\n",
    "        path=root + src.split('?')[0].split('/')[-1]\n",
    "        try:                              #创建或判断路径图片是否存在并下载\n",
    "            if not os.path.exists(root):\n",
    "                os.mkdir(root)\n",
    "            if not os.path.exists(path):\n",
    "                r = requests.get(src)\n",
    "                with open(path, 'wb') as f:\n",
    "                    f.write(r.content)\n",
    "                    f.close()\n",
    "                    print(\"文件保存成功\")\n",
    "            else:\n",
    "                print(\"文件已存在\")\n",
    "        except:\n",
    "            print(\"爬取失败\")\n",
    "            \n",
    "def main():\n",
    "    url='https://baijiahao.baidu.com/s?id=1659928224241400363&wfr=spider&for=pc'\n",
    "    html=getHTMLText(url)\n",
    "    printext(html)\n",
    "main()"
   ]
  },
  {
   "cell_type": "code",
   "execution_count": null,
   "metadata": {},
   "outputs": [],
   "source": []
  }
 ],
 "metadata": {
  "kernelspec": {
   "display_name": "Python 3",
   "language": "python",
   "name": "python3"
  },
  "language_info": {
   "codemirror_mode": {
    "name": "ipython",
    "version": 3
   },
   "file_extension": ".py",
   "mimetype": "text/x-python",
   "name": "python",
   "nbconvert_exporter": "python",
   "pygments_lexer": "ipython3",
   "version": "3.7.3"
  }
 },
 "nbformat": 4,
 "nbformat_minor": 2
}
