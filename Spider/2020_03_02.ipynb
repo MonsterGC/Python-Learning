{
 "cells": [
  {
   "cell_type": "markdown",
   "metadata": {},
   "source": [
    "# 问题"
   ]
  },
  {
   "cell_type": "raw",
   "metadata": {},
   "source": [
    "1、class_=[\"doctor-info-item\"]\n",
    "2、反爬导致所有页面请求回来的数据错误"
   ]
  },
  {
   "cell_type": "markdown",
   "metadata": {},
   "source": [
    "# 遗留的问题 "
   ]
  },
  {
   "cell_type": "raw",
   "metadata": {},
   "source": [
    "1、图片同名的医生问题"
   ]
  },
  {
   "cell_type": "code",
   "execution_count": 86,
   "metadata": {},
   "outputs": [],
   "source": [
    "import requests\n",
    "import os\n",
    "from bs4 import BeautifulSoup\n",
    "import time\n",
    "\n",
    "kv = {'user-agent':'Mozilla/5.0 (Windows NT 10.0; Win64; x64) AppleWebKit/537.36 (KHTML, like Gecko) Chrome/75.0.3770.142 Safari/537.36'}\n",
    "# 保存图片\n",
    "'''\n",
    "img_url 图片地址\n",
    "root 保存位置\n",
    "img_name 医生名字\n",
    "'''\n",
    "def saveImage(img_url,root,img_name):\n",
    "    #  保存路径    \n",
    "    path= root + img_name + '.jpg'  # F:\\LeetCode\\Python-Learning\\Resources\\images\\Doctor\\xxxx.jpg\n",
    "    \n",
    "    try:\n",
    "        if not os.path.exists(root):\n",
    "            os.mkdir(root)\n",
    "        if not os.path.exists(path):\n",
    "            r=requests.get(img_url, headers=kv)\n",
    "            with open(path, 'wb') as f:\n",
    "                f.write(r.content)\n",
    "                f.close()\n",
    "#                 print('文件爬取成功')  注意：这个“爬取成功”最好在调试的时候用，只打印失败的(好让你知道是否出错了)\n",
    "        else:\n",
    "            print('文件已存在')\n",
    "    except:\n",
    "        print('文件爬取失败')\n",
    "        \n",
    "'''\n",
    "<div class=\"doctor-info-item first\">\n",
    "<div class=\"avatar-wrap\">\n",
    "<a href=\"/pc/doctor/clinic_web_3ae3c4d1de86bd30/\" target=\"_blank\">\n",
    "<img src=\"https://resource.chunyu.mobi/@/media/images/2014/12/12/7eb9bae48c69_w310_h310_.jpg?imageMogr2/thumbnail/150x\"/>\n",
    "</a>\n",
    "<span class=\"available\">可咨询</span>\n",
    "</div>\n",
    "<div class=\"detail\">\n",
    "<div class=\"des-item\">\n",
    "<a class=\"name-wrap\" href=\"/pc/doctor/clinic_web_3ae3c4d1de86bd30/\" target=\"_blank\">\n",
    "<span class=\"name\">张双民 </span>\n",
    "<span class=\"clinic\">普外科 </span>\n",
    "<span class=\"grade\">主任医师</span>\n",
    "</a>\n",
    "</div>\n",
    "<div class=\"des-item\">\n",
    "<a class=\"hospital\" href=\"/pc/hospital/1f4a9d4915cffa55/\" target=\"_blank\">\n",
    "\t\t\t\t北京协和医院\n",
    "\t\t\t</a>\n",
    "</div>\n",
    "<div class=\"des-item\">\n",
    "<span class=\"half-item\">服务人次 <i class=\"color-black\">4012</i></span>\n",
    "<span class=\"half-item\">好评率（%）<i>98.9</i></span>\n",
    "</div>\n",
    "<p class=\"des\">擅长：重度痔疮、直肠脱垂、女性直肠前突引起的出口梗阻性便秘、肛周脓肿、肛瘘的外科治疗。 腹部恶性肿瘤（胃癌、肝癌、胆囊癌、胰腺癌、肠癌等）诊断、外科手术治疗、术后化疗等综合性治疗；甲状腺、乳腺、肝胆良性疾病及恶性疾病的诊断和外科治疗。</p>\n",
    "</div>\n",
    "</div>\n",
    "'''       \n",
    "def printList(url):\n",
    "#     time.sleep(2)\n",
    "    urlhtml=requests.get(url,headers=kv)\n",
    "    urlhtml.encoding='utf-8'\n",
    "    root='F:/LeetCode/Python-Learning/Resources/images/Doctor/'\n",
    "    soup=BeautifulSoup(urlhtml.text, 'lxml')\n",
    "    doctor = soup.find_all('div', class_=[\"doctor-info-item\"])\n",
    "    for d in doctor:\n",
    "        # 信息获取         \n",
    "        '''\n",
    "        doctor_img 头像\n",
    "        doctor_name 名字\n",
    "        doctor_type 医生类别\n",
    "        doctor_skill 擅长\n",
    "        doctor_hospital 医院\n",
    "        '''\n",
    "        doctor_img = d.find(\"img\").get(\"src\")\n",
    "        doctor_name = d.find(\"span\",class_=\"name\").text\n",
    "        doctor_type = d.find(\"span\",class_=\"clinic\").text\n",
    "        doctor_skill = d.find(\"p\",class_=\"des\").text\n",
    "        doctor_hospital = d.find(\"a\",class_=\"hospital\").text\n",
    "        # 保存图片\n",
    "        saveImage(doctor_img,root,doctor_name)\n",
    "#         print({\n",
    "#             doctor_img,\n",
    "#             doctor_name,\n",
    "#             doctor_hospital,\n",
    "#             doctor_type,\n",
    "#             doctor_skill\n",
    "#         })\n",
    "\n",
    "def main():\n",
    "    start_url='https://www.chunyuyisheng.com/pc/doctors/?page='\n",
    "    url = \"\"\n",
    "    for i in range(1, 30):\n",
    "        url = start_url + str(i)\n",
    "        print(url)\n",
    "        printList(url)\n",
    "# main()"
   ]
  },
  {
   "cell_type": "code",
   "execution_count": 2,
   "metadata": {},
   "outputs": [],
   "source": [
    "src = \"https://resource.chunyu.mobi/@/media/images/0051/1f03ef3798fe?imageMogr2/thumbnail/150x\""
   ]
  },
  {
   "cell_type": "code",
   "execution_count": 3,
   "metadata": {},
   "outputs": [
    {
     "data": {
      "text/plain": [
       "['https://resource.chunyu.mobi/@/media/images/0051/1f03ef3798fe',\n",
       " 'imageMogr2/thumbnail/150x']"
      ]
     },
     "execution_count": 3,
     "metadata": {},
     "output_type": "execute_result"
    }
   ],
   "source": [
    "src.split(\"?\")"
   ]
  },
  {
   "cell_type": "code",
   "execution_count": 4,
   "metadata": {},
   "outputs": [
    {
     "data": {
      "text/plain": [
       "['https:',\n",
       " '',\n",
       " 'resource.chunyu.mobi',\n",
       " '@',\n",
       " 'media',\n",
       " 'images',\n",
       " '0051',\n",
       " '1f03ef3798fe']"
      ]
     },
     "execution_count": 4,
     "metadata": {},
     "output_type": "execute_result"
    }
   ],
   "source": [
    "src.split(\"?\")[0].split(\"/\")"
   ]
  },
  {
   "cell_type": "code",
   "execution_count": 96,
   "metadata": {},
   "outputs": [
    {
     "data": {
      "text/plain": [
       "'1f03ef3798fe'"
      ]
     },
     "execution_count": 96,
     "metadata": {},
     "output_type": "execute_result"
    }
   ],
   "source": [
    "src.split(\"?\")[0].split(\"/\")[-1]"
   ]
  },
  {
   "cell_type": "code",
   "execution_count": null,
   "metadata": {},
   "outputs": [],
   "source": []
  }
 ],
 "metadata": {
  "kernelspec": {
   "display_name": "Python 3",
   "language": "python",
   "name": "python3"
  },
  "language_info": {
   "codemirror_mode": {
    "name": "ipython",
    "version": 3
   },
   "file_extension": ".py",
   "mimetype": "text/x-python",
   "name": "python",
   "nbconvert_exporter": "python",
   "pygments_lexer": "ipython3",
   "version": "3.7.3"
  }
 },
 "nbformat": 4,
 "nbformat_minor": 2
}
