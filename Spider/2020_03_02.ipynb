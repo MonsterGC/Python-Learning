{
 "cells": [
  {
   "cell_type": "markdown",
   "metadata": {},
   "source": [
    "# 问题"
   ]
  },
  {
   "cell_type": "raw",
   "metadata": {},
   "source": [
    "1、class_=[\"doctor-info-item\"]\n",
    "2、反爬导致所有页面请求回来的数据错误"
   ]
  },
  {
   "cell_type": "markdown",
   "metadata": {},
   "source": [
    "# 遗留的问题 "
   ]
  },
  {
   "cell_type": "raw",
   "metadata": {},
   "source": [
    "1、图片同名的医生问题"
   ]
  },
  {
   "cell_type": "code",
   "execution_count": 1,
   "metadata": {},
   "outputs": [
    {
     "name": "stdout",
     "output_type": "stream",
     "text": [
      "{'图片': 'https://resource.chunyu.mobi/@/media/images/2017/12/07/726df478a912_w192_h192_.jpg?imageMogr2/thumbnail/150x', '名字': '刘海防\\xa0', '医院': '\\n\\t\\t\\t\\t复旦大学附属华山医院北院\\n\\t\\t\\t', '类型': '妇科\\xa0', '擅长': '擅长：子宫肌瘤、卵巢囊肿、恶性肿瘤、子宫内膜异位症、女性不孕症、妊娠合并症'}\n",
      "False\n",
      "{'图片': 'https://resource.chunyu.mobi/@/media/images/8581/b11a5213329f?imageMogr2/thumbnail/150x', '名字': '陈利鸿\\xa0', '医院': '\\n\\t\\t\\t\\t四川大学华西医院\\n\\t\\t\\t', '类型': '内分泌与代谢科\\xa0', '擅长': '擅长：糖尿病、高血压、甲亢、甲减、月经紊乱、甲状腺炎'}\n",
      "False\n",
      "{'图片': 'https://resource.chunyu.mobi/@/media/images/2016/12/27/4b68466377af_w274_h264_.jpg?imageMogr2/thumbnail/150x', '名字': '隋盈盈\\xa0', '医院': '\\n\\t\\t\\t\\t北京大学第三医院\\n\\t\\t\\t', '类型': '小儿科\\xa0', '擅长': '擅长：呼吸系统疾病、消化系统疾病、儿童生长发育、幼儿急疹、小儿肺热、手足口病'}\n",
      "False\n",
      "{'图片': 'https://resource.chunyu.mobi/@/media/images/1a26/938045f176ff?imageMogr2/thumbnail/150x', '名字': '张刚\\xa0', '医院': '\\n\\t\\t\\t\\t天津医科大学总医院\\n\\t\\t\\t', '类型': '小儿科\\xa0', '擅长': '擅长：新生儿外科，儿童普外科～泌尿外科～骨外科等儿外科病变；儿童发育咨询，术后注意事项～营养保健等'}\n",
      "False\n",
      "{'图片': 'https://resource.chunyu.mobi/@/media/images/2015/05/14/95892fae6e01_w1098_h1098_.jpg?imageMogr2/thumbnail/150x', '名字': '徐海栋\\xa0', '医院': '\\n\\t\\t\\t\\t南京军区南京总医院\\n\\t\\t\\t', '类型': '脊柱科\\xa0', '擅长': '擅长：脊柱外科，微创手术，生物材料，脊柱肿瘤。目前为中国组织工程研究、临床与病理、CTM、ATM多本杂志青年编委或审稿专家，发表论文50余篇，其中SCI十余篇，总影响因子约30分；承担国家自然科学基金青年基金、军队大项课题研究，在硏经费八十余万。拥有专利多项、参编论著多部。目前为全军第十届专业委员会基础与转化学组副主任委员。先后获得优秀博士、优秀带教教师、刘志红青年医学奖、江苏省333高层次人才培养对象等荣誉，并为江苏省中西医结合脊柱专业委员会青年委员、南京市骨质疏松及骨矿物盐专业委员会青年委员会副主任委员及多个社会职务。受上级委派成为中国第13批援助坦桑尼亚疗队队长，并被表彰为优秀党务工作者，所带领的医疗队被评为2019年度优秀援外专家组，并被医院表彰为感动东总团队。'}\n",
      "False\n",
      "{'图片': 'https://resource.chunyu.mobi/@/media/images/4792/0f1a2b04f598?imageMogr2/thumbnail/150x', '名字': '金璿\\xa0', '医院': '\\n\\t\\t\\t\\t北京大学第一医院\\n\\t\\t\\t', '类型': '肿瘤内科\\xa0', '擅长': '擅长：以消化道肿瘤为主的实体瘤的内科治疗。'}\n",
      "False\n",
      "{'图片': 'https://resource.chunyu.mobi/@/media/images/2016/08/08/77b3bf23e71c_w910_h940_.jpg?imageMogr2/thumbnail/150x', '名字': '盛宇俊\\xa0', '医院': '\\n\\t\\t\\t\\t安徽医科大学第一附属医院\\n\\t\\t\\t', '类型': '皮肤科\\xa0', '擅长': '擅长：皮肤病、性病、尖锐湿疣、梅毒、艾滋病、病毒感染'}\n",
      "False\n",
      "{'图片': 'https://resource.chunyu.mobi/@/media/images/d1af/c86ff54f869b?imageMogr2/thumbnail/150x', '名字': '李晓峰\\xa0', '医院': '\\n\\t\\t\\t\\t吉林大学第一医院\\n\\t\\t\\t', '类型': '消化内科\\xa0', '擅长': '擅长：急性胃肠炎、慢性胃炎、结肠炎、功能性胃肠病、消化性溃疡、炎症性肠病'}\n",
      "False\n",
      "{'图片': 'https://resource.chunyu.mobi/@/media/images/76ee/1641df0c3856?imageMogr2/thumbnail/150x', '名字': '严格\\xa0', '医院': '\\n\\t\\t\\t\\t重庆医科大学附属儿童医院\\n\\t\\t\\t', '类型': '创伤科\\xa0', '擅长': '擅长：儿童髋膝关节滑膜炎，儿童股骨头坏死，发育性髋关节脱位(双侧臀纹不对称)，各类型小儿四肢、脊柱等骨折，先天性手足畸形、多并指畸形，脊柱侧弯，肌性斜颈，X、O型腿，腱鞘炎，骨囊肿、骨纤维皮质缺损、纤维结构不良、骨软骨瘤等良恶性骨肿瘤，成骨不全，马蹄足等各类型小儿骨科疾病'}\n",
      "False\n",
      "{'图片': 'https://resource.chunyu.mobi/@/media/images/6aa2/42f829cb738b?imageMogr2/thumbnail/150x', '名字': '张海鹏\\xa0', '医院': '\\n\\t\\t\\t\\t四川大学华西医院\\n\\t\\t\\t', '类型': '呼吸内科\\xa0', '擅长': '擅长：呼吸系统疾病例如上呼吸道感染，各类肺炎，COPD，肺心病，间质性肺炎，支气管扩张以及肺癌诊断及治疗建议，\\r\\n胸部影像阅读，各类化验单阅读\\r\\n擅长失眠，睡眠障碍及睡眠呼吸暂停的诊断治疗。\\n对于职场及学业压力导致的失眠提供帮助。'}\n",
      "False\n",
      "{'图片': 'https://resource.chunyu.mobi/@/media/images/32f7/146da7385ab4?imageMogr2/thumbnail/150x', '名字': '马林祥\\xa0', '医院': '\\n\\t\\t\\t\\t潍坊市中医院\\n\\t\\t\\t', '类型': '男科\\xa0', '擅长': '擅长：擅长男科以及泌尿系统疾病，尤其阳痿，早泄，包皮过长，包皮龟头炎，慢性前列腺炎，泌尿系感染，淋病，非淋性尿道炎，少精症，弱精症，男性不育，泌尿系统的结石、肿瘤以及前列腺增生、女性泌尿系感染，尿失禁等方面的疾病，掌握常见疾病的诊断及治疗方式，欢迎大家咨询相关医学问题，竭力为您解除病痛！'}\n",
      "False\n",
      "{'图片': 'https://resource.chunyu.mobi/@/media/images/dd0f/fe10646c49a4?imageMogr2/thumbnail/150x', '名字': '韩非\\xa0', '医院': '\\n\\t\\t\\t\\t苏州大学附属第一医院\\n\\t\\t\\t', '类型': '创伤科\\xa0', '擅长': '擅长：脑外伤、骨折、腰椎间盘突出、椎间盘突出、颈椎病、肩周炎'}\n",
      "False\n",
      "{'图片': 'https://resource.chunyu.mobi/@/media/images/a18f/ff3375cb4df6?imageMogr2/thumbnail/150x', '名字': '张海丽\\xa0', '医院': '\\n\\t\\t\\t\\t山西中医药大学附属医院\\n\\t\\t\\t', '类型': '小儿科\\xa0', '擅长': '擅长：小儿湿疹，腹泻病伴脱水、支气管肺炎、支原体肺炎、上呼吸道感染等以及新生儿各种疾患常见病多发病，肠系膜淋巴结炎以及各种出疹性疾病'}\n",
      "False\n",
      "{'图片': 'https://resource.chunyu.mobi/@/media/images/2017/06/05/5096b9c841cb_w516_h492_.jpg?imageMogr2/thumbnail/150x', '名字': '马铭\\xa0', '医院': '\\n\\t\\t\\t\\t河南省安阳地区医院\\n\\t\\t\\t', '类型': '中医内科\\xa0', '擅长': '擅长：咳嗽、鼻炎、荨麻疹、湿疹、痤疮、月经病、产后病、更年期综合征、消化系统等疾病'}\n",
      "False\n",
      "{'图片': 'https://resource.chunyu.mobi/@/media/images/2017/03/02/2ba1a0e5b547_w691_h691_.jpg?imageMogr2/thumbnail/150x', '名字': '付生麒\\xa0', '医院': '\\n\\t\\t\\t\\t自贡市第一人民医院\\n\\t\\t\\t', '类型': '神经内科\\xa0', '擅长': '擅长：神经内科常见疾病诊断与治疗，主要方向为脑血栓，脑梗塞，脑出血，缺血性卒中介入治疗、溶栓治疗，重症肌无力，自身免疫性脑炎，神经免疫性疾病，失眠，多梦，焦虑，抑郁，头痛，头晕，眩晕，癫痫，老年痴呆，阿尔兹海默，神经变性性疾病，面肌痉挛，眼睑痉挛，麦格综合征，高血压病，突发性耳聋，耳鸣，糖尿病，脑病肿瘤，脑功能障碍等'}\n",
      "False\n",
      "{'图片': 'https://resource.chunyu.mobi/@/media/images/9ebd/2651b07d4fe7?imageMogr2/thumbnail/150x', '名字': '赵力力\\xa0', '医院': '\\n\\t\\t\\t\\t邢台医专第二附属医院\\n\\t\\t\\t', '类型': '小儿科\\xa0', '擅长': '擅长：我在邢台医专第二附属医院儿科工作，能熟练掌握儿科常见病、多发病的诊断及治疗，尤其擅长呼吸系统疾病、新生儿及感染性疾病。'}\n",
      "False\n",
      "{'图片': 'https://resource.chunyu.mobi/@/media/images/2018/01/12/4b19ba55d4cd_w302_h309_.jpg?imageMogr2/thumbnail/150x', '名字': '马守原\\xa0', '医院': '\\n\\t\\t\\t\\t解放军总医院（301医院）\\n\\t\\t\\t', '类型': '心血管内科\\xa0', '擅长': '擅长：常见心血管疾病诊治及预防，比如高血压、高脂血症、冠心病、心律失常等，以及相关检查的解读。'}\n",
      "False\n",
      "{'图片': 'https://resource.chunyu.mobi/@/media/images/2018/06/16/a0c8/fcea251f5ee5_w519_h519_.jpg?imageMogr2/thumbnail/150x', '名字': '黄润强\\xa0', '医院': '\\n\\t\\t\\t\\t十堰市太和医院\\n\\t\\t\\t', '类型': '妇科\\xa0', '擅长': '擅长：16年三甲医院临床诊治经验。擅长妇科炎症、子宫肌瘤、卵巢囊肿、月经紊乱、不孕症、宫外孕、子宫内膜异位症、妇科恶性肿瘤（癌症）、生殖道畸形等疾病的诊断和治疗，尤其擅长于宫、腹腔镜的微创手术治疗。熟练掌握生理产科、病理产科和计划生育等临床诊疗技术。'}\n",
      "False\n",
      "{'图片': 'https://resource.chunyu.mobi/@/media/images/2015/12/14/8d918c40c96c_w303_h303_.jpg?imageMogr2/thumbnail/150x', '名字': '王贵法\\xa0', '医院': '\\n\\t\\t\\t\\t石家庄市第一医院\\n\\t\\t\\t', '类型': '心血管内科\\xa0', '擅长': '擅长：本人有20多年丰富的临床经验，能够准确诊治心血管的各种疾病，包括急、慢性高血压、冠心病、急性心肌梗塞、各种心律失常、心力衰竭、心源性休克；能准确诊治各种重症感染、感染性休克、各种呼吸衰竭及各种急性脑血管疾病。\\n'}\n",
      "False\n",
      "{'图片': 'https://resource.chunyu.mobi/@/media/images/4106/fb2a966aaa87?imageMogr2/thumbnail/150x', '名字': '肖杰\\xa0', '医院': '\\n\\t\\t\\t\\t四川大学华西医院\\n\\t\\t\\t', '类型': '心血管内科\\xa0', '擅长': '擅长：擅长高血压、冠心病、糖尿病等慢性疾病的诊断、治疗及预防。擅长未分化疾病的早期筛查、诊断、预防以及健康管理。'}\n",
      "False\n"
     ]
    }
   ],
   "source": [
    "# -*- coding: UTF-8 -*-\n",
    "\n",
    "import requests\n",
    "import os\n",
    "from bs4 import BeautifulSoup\n",
    "import time\n",
    "import MySQLdb\n",
    "\n",
    "kv = {'user-agent':'Mozilla/5.0 (Windows NT 10.0; Win64; x64) AppleWebKit/537.36 (KHTML, like Gecko) Chrome/75.0.3770.142 Safari/537.36'}\n",
    "\n",
    "class Image:\n",
    "    '照片类'\n",
    "    def __init__(self,img_url,root,img_name):\n",
    "        self.img_url = img_url\n",
    "        self.img_name = img_name\n",
    "        self.root = root\n",
    "    # 保存图片\n",
    "    '''\n",
    "    img_url 图片地址\n",
    "    root 保存位置\n",
    "    img_name 医生名字\n",
    "    '''\n",
    "    def saveImage(self):\n",
    "        #  保存路径    \n",
    "        path= self.root +self.img_name + '.jpg'  # F:\\LeetCode\\Python-Learning\\Resources\\images\\Doctor\\xxxx.jpg\n",
    "\n",
    "        try:\n",
    "            if not os.path.exists(self.root):\n",
    "                os.mkdir(self.root)\n",
    "            if not os.path.exists(path):\n",
    "                r=requests.get(self.img_url, headers=kv)\n",
    "                with open(path, 'wb') as f:\n",
    "                    f.write(r.content)\n",
    "                    f.close()\n",
    "                    # print('文件爬取成功')  注意：这个“爬取成功”最好在调试的时候用，只打印失败的(好让你知道是否出错了)\n",
    "            else:\n",
    "                print('文件已存在')\n",
    "        except:\n",
    "            print('文件爬取失败')\n",
    "\n",
    "# class SaveMysql:\n",
    "    \n",
    "            \n",
    "class Spider:\n",
    "    '爬虫类'\n",
    "    def __init__(self,url):\n",
    "        self.url = url\n",
    "        \n",
    "    def getSpider(self):\n",
    "        #     time.sleep(2)\n",
    "        urlhtml=requests.get(self.url,headers=kv)\n",
    "        urlhtml.encoding='utf8'\n",
    "        root='F:/LeetCode/Python-Learning/Resources/images/Doctor/'\n",
    "        soup=BeautifulSoup(urlhtml.text, 'lxml')\n",
    "        doctor = soup.find_all('div', class_=[\"doctor-info-item\"])\n",
    "#         cur = conn.cursor()\n",
    "        for d in doctor:\n",
    "            # 信息获取         \n",
    "            '''\n",
    "            doctor_img 头像\n",
    "            doctor_name 名字\n",
    "            doctor_type 医生类别\n",
    "            doctor_skill 擅长\n",
    "            doctor_hospital 医院\n",
    "            '''\n",
    "            doctor_img = d.find(\"img\").get(\"src\")\n",
    "            doctor_name = d.find(\"span\",class_=\"name\").text\n",
    "            doctor_type = d.find(\"span\",class_=\"clinic\").text\n",
    "            doctor_skill = d.find(\"p\",class_=\"des\").text\n",
    "            doctor_hospital = d.find(\"a\",class_=\"hospital\").text\n",
    "            # 保存图片\n",
    "#             img = Image(doctor_img,root,doctor_name)\n",
    "#             img.saveImage()\n",
    "\n",
    "            print({\n",
    "                \"图片\":doctor_img,\n",
    "                \"名字\":doctor_name,\n",
    "                \"医院\":doctor_hospital,\n",
    "                \"类型\":doctor_type,\n",
    "                \"擅长\":doctor_skill\n",
    "            })\n",
    "            print(isinstance({\n",
    "                \"图片\":doctor_img,\n",
    "                \"名字\":doctor_name,\n",
    "                \"医院\":doctor_hospital,\n",
    "                \"类型\":doctor_type,\n",
    "                \"擅长\":doctor_skill\n",
    "            },list))\n",
    "\n",
    "'''\n",
    "<div class=\"doctor-info-item first\">\n",
    "<div class=\"avatar-wrap\">\n",
    "<a href=\"/pc/doctor/clinic_web_3ae3c4d1de86bd30/\" target=\"_blank\">\n",
    "<img src=\"https://resource.chunyu.mobi/@/media/images/2014/12/12/7eb9bae48c69_w310_h310_.jpg?imageMogr2/thumbnail/150x\"/>\n",
    "</a>\n",
    "<span class=\"available\">可咨询</span>\n",
    "</div>\n",
    "<div class=\"detail\">\n",
    "<div class=\"des-item\">\n",
    "<a class=\"name-wrap\" href=\"/pc/doctor/clinic_web_3ae3c4d1de86bd30/\" target=\"_blank\">\n",
    "<span class=\"name\">张双民 </span>\n",
    "<span class=\"clinic\">普外科 </span>\n",
    "<span class=\"grade\">主任医师</span>\n",
    "</a>\n",
    "</div>\n",
    "<div class=\"des-item\">\n",
    "<a class=\"hospital\" href=\"/pc/hospital/1f4a9d4915cffa55/\" target=\"_blank\">\n",
    "\t\t\t\t北京协和医院\n",
    "\t\t\t</a>\n",
    "</div>\n",
    "<div class=\"des-item\">\n",
    "<span class=\"half-item\">服务人次 <i class=\"color-black\">4012</i></span>\n",
    "<span class=\"half-item\">好评率（%）<i>98.9</i></span>\n",
    "</div>\n",
    "<p class=\"des\">擅长：重度痔疮、直肠脱垂、女性直肠前突引起的出口梗阻性便秘、肛周脓肿、肛瘘的外科治疗。 腹部恶性肿瘤（胃癌、肝癌、胆囊癌、胰腺癌、肠癌等）诊断、外科手术治疗、术后化疗等综合性治疗；甲状腺、乳腺、肝胆良性疾病及恶性疾病的诊断和外科治疗。</p>\n",
    "</div>\n",
    "</div>\n",
    "'''       \n",
    "\n",
    "if __name__==\"__main__\":\n",
    "    start_url='https://www.chunyuyisheng.com/pc/doctors/?page='\n",
    "    url = \"\"\n",
    "    for i in range(1, 2):\n",
    "        url = start_url + str(i)\n",
    "        scan = Spider(url)\n",
    "        scan.getSpider()"
   ]
  },
  {
   "cell_type": "code",
   "execution_count": 2,
   "metadata": {},
   "outputs": [],
   "source": [
    "src = \"https://resource.chunyu.mobi/@/media/images/0051/1f03ef3798fe?imageMogr2/thumbnail/150x\""
   ]
  },
  {
   "cell_type": "code",
   "execution_count": 3,
   "metadata": {},
   "outputs": [
    {
     "data": {
      "text/plain": [
       "['https://resource.chunyu.mobi/@/media/images/0051/1f03ef3798fe',\n",
       " 'imageMogr2/thumbnail/150x']"
      ]
     },
     "execution_count": 3,
     "metadata": {},
     "output_type": "execute_result"
    }
   ],
   "source": [
    "src.split(\"?\")"
   ]
  },
  {
   "cell_type": "code",
   "execution_count": 4,
   "metadata": {},
   "outputs": [
    {
     "data": {
      "text/plain": [
       "['https:',\n",
       " '',\n",
       " 'resource.chunyu.mobi',\n",
       " '@',\n",
       " 'media',\n",
       " 'images',\n",
       " '0051',\n",
       " '1f03ef3798fe']"
      ]
     },
     "execution_count": 4,
     "metadata": {},
     "output_type": "execute_result"
    }
   ],
   "source": [
    "src.split(\"?\")[0].split(\"/\")"
   ]
  },
  {
   "cell_type": "code",
   "execution_count": 96,
   "metadata": {},
   "outputs": [
    {
     "data": {
      "text/plain": [
       "'1f03ef3798fe'"
      ]
     },
     "execution_count": 96,
     "metadata": {},
     "output_type": "execute_result"
    }
   ],
   "source": [
    "src.split(\"?\")[0].split(\"/\")[-1]"
   ]
  },
  {
   "cell_type": "code",
   "execution_count": null,
   "metadata": {},
   "outputs": [],
   "source": []
  }
 ],
 "metadata": {
  "kernelspec": {
   "display_name": "Python 3",
   "language": "python",
   "name": "python3"
  },
  "language_info": {
   "codemirror_mode": {
    "name": "ipython",
    "version": 3
   },
   "file_extension": ".py",
   "mimetype": "text/x-python",
   "name": "python",
   "nbconvert_exporter": "python",
   "pygments_lexer": "ipython3",
   "version": "3.7.3"
  }
 },
 "nbformat": 4,
 "nbformat_minor": 2
}
